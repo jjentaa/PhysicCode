{
 "cells": [
  {
   "cell_type": "markdown",
   "metadata": {},
   "source": [
    "# projectile\n",
    "\n",
    "- plot x and y\n",
    "- degree 60\n",
    "- cal until hit the ground"
   ]
  },
  {
   "cell_type": "markdown",
   "metadata": {},
   "source": [
    "-ux constant = ucos\n",
    "-uy(h) = uy0+(a*h)"
   ]
  },
  {
   "cell_type": "code",
   "execution_count": null,
   "metadata": {},
   "outputs": [],
   "source": [
    "import math\n",
    "import matplotlib.pyplot as plt"
   ]
  },
  {
   "cell_type": "code",
   "execution_count": null,
   "metadata": {},
   "outputs": [],
   "source": [
    "class System:\n",
    "    def __init__(self, angle):\n",
    "        # initial condition\n",
    "        self.x = 0\n",
    "        self.y = 0\n",
    "        self.u = 1\n",
    "        self.g = 9.8\n",
    "        self.m = 1\n",
    "        self.t = 0\n",
    "\n",
    "        # only this system\n",
    "        self.h = 0.1\n",
    "        self.angle = math.radians(angle)\n",
    "\n",
    "        self.f = self.m*self.g\n",
    "        self.ux = self.u*math.cos(self.angle)\n",
    "        self.uy = self.u*math.sin(self.angle)\n",
    "    def updateX(self):\n",
    "        self.x = self.x + (self.u*self.h*math.cos(self.angle))\n",
    "\n",
    "    def updateY(self):\n",
    "        self.y = self.y + (self.uy*self.h*math.sin(self.angle)) + (0.5*(self.f/self.m)*(self.h**2))\n",
    "    \n",
    "    def updateUy(self):\n",
    "        self.uy = self.uy + (self.f/self.m*self.h)\n",
    "\n",
    "    def updateT(self):\n",
    "        self.t += self.h"
   ]
  },
  {
   "cell_type": "code",
   "execution_count": null,
   "metadata": {
    "vscode": {
     "languageId": "markdown"
    }
   },
   "outputs": [],
   "source": [
    "xPos = []\n",
    "yPos = []\n",
    "tList = []\n",
    "\n",
    "s = System(60)\n",
    "\n",
    "while s.y >= 0:\n",
    "    xPos.append(s.x)\n",
    "    yPos.append(s.y)\n",
    "    tList.append(s.t)\n",
    "    s.updateX()\n",
    "    s.updateY()\n",
    "    s.updateT()\n",
    "    s.updateUy()\n",
    "    print(s.y)"
   ]
  }
 ],
 "metadata": {
  "kernelspec": {
   "display_name": "Python 3.8.8 ('phycode': venv)",
   "language": "python",
   "name": "python3"
  },
  "language_info": {
   "codemirror_mode": {
    "name": "ipython",
    "version": 3
   },
   "file_extension": ".py",
   "mimetype": "text/x-python",
   "name": "python",
   "nbconvert_exporter": "python",
   "pygments_lexer": "ipython3",
   "version": "3.8.8"
  },
  "orig_nbformat": 4,
  "vscode": {
   "interpreter": {
    "hash": "af395fdda85f1f85307ea46420fab30ad6150d40766eb06495eee9239cf28651"
   }
  }
 },
 "nbformat": 4,
 "nbformat_minor": 2
}
