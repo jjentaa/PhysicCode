{
 "cells": [
  {
   "cell_type": "code",
   "execution_count": 32,
   "metadata": {},
   "outputs": [],
   "source": [
    "class System:\n",
    "    def __init__(self):\n",
    "        self.G = 6.67e-11\n",
    "        self.ms = 2.0e30\n",
    "        self.me = 5.972e24\n",
    "\n",
    "        self.upperPart = self.G*self.me*self.ms #just only Gm1m2\n",
    "\n",
    "        self.xe, self.ye, self.ze = 1.0167*1.5e11, 0, 0\n",
    "        self.vxe, self.vye, self.vze = 0, 29290, 0 #velocity part\n",
    "\n",
    "        self.xs, self.ys, self.zs = 0, 0, 0\n",
    "        self.vxs, self.vys, self.vzs = 0, 0, 0\n",
    "\n",
    "        self.t = 0\n",
    "        self.dt = 24*60*60 # 1 day calc in to SI unit\n",
    "        #dt just sep the orbit from 1 year to a day\n",
    "\n",
    "    def calc_r(self):\n",
    "        self.rx, self.ry, self.rz = self.xe-self.xs, self.ye-self.ys, self.ze-self.zs\n",
    "        self.r_cube = (self.rx**2+self.ry**2+self.rz**2)**1.5 #r**3\n",
    "\n",
    "    def calc_f(self):\n",
    "        self.fxe = -self.upperPart*self.rx/self.r_cube\n",
    "        self.fye = -self.upperPart*self.ry/self.r_cube\n",
    "        self.fze = -self.upperPart*self.rz/self.r_cube\n",
    "\n",
    "        self.fxs = -self.fxe\n",
    "        self.fys = -self.fye\n",
    "        self.fzs = -self.fze\n",
    "\n",
    "    def calc_v(self):\n",
    "        self.vxe += self.fxe/self.me*self.dt\n",
    "        self.vye += self.fye/self.me*self.dt\n",
    "        self.vze += self.fze/self.me*self.dt\n",
    "\n",
    "        self.vxs += self.fxs/self.ms*self.dt\n",
    "        self.vys += self.fys/self.ms*self.dt\n",
    "        self.vzs += self.fzs/self.ms*self.dt\n",
    "\n",
    "    def update_pos(self):\n",
    "        self.xe += self.vxe*self.dt\n",
    "        self.ye += self.vye*self.dt\n",
    "        self.ze += self.vze*self.dt\n",
    "\n",
    "        self.xs += self.vxs*self.dt\n",
    "        self.ys += self.vys*self.dt\n",
    "        self.zs += self.vzs*self.dt\n",
    "\n",
    "    def update_t(self):\n",
    "        self.t += self.dt"
   ]
  },
  {
   "cell_type": "code",
   "execution_count": 33,
   "metadata": {},
   "outputs": [],
   "source": [
    "s = System()\n",
    "\n",
    "xeLs, yeLs, zeLs = [], [], []\n",
    "xsLs, ysLs, zsLs = [], [], []\n",
    "\n",
    "while s.t < 365*s.dt:\n",
    "    s.calc_r()\n",
    "    s.calc_f()\n",
    "    s.calc_v()\n",
    "    s.update_pos()\n",
    "    s.update_t()\n",
    "\n",
    "    xeLs.append(s.xe)\n",
    "    yeLs.append(s.ye)\n",
    "    zeLs.append(s.ze)\n",
    "\n",
    "    xsLs.append(s.xs)\n",
    "    ysLs.append(s.ys)\n",
    "    zsLs.append(s.zs)"
   ]
  },
  {
   "cell_type": "code",
   "execution_count": 34,
   "metadata": {},
   "outputs": [],
   "source": [
    "import matplotlib.pyplot as plt"
   ]
  },
  {
   "cell_type": "code",
   "execution_count": 35,
   "metadata": {},
   "outputs": [
    {
     "name": "stdout",
     "output_type": "stream",
     "text": [
      "365\n"
     ]
    },
    {
     "name": "stderr",
     "output_type": "stream",
     "text": [
      "/var/folders/vn/_y1rl4y52sb3kx0xf36z3zv40000gn/T/ipykernel_7739/3522365869.py:9: UserWarning: color is redundantly defined by the 'color' keyword argument and the fmt string \"-g\" (-> color='g'). The keyword argument will take precedence.\n",
      "  line_e,     = ax.plot([],[],'-g',lw=1, c='blue')\n"
     ]
    },
    {
     "ename": "RuntimeError",
     "evalue": "Requested MovieWriter (ffmpeg) not available",
     "output_type": "error",
     "traceback": [
      "\u001b[0;31m---------------------------------------------------------------------------\u001b[0m",
      "\u001b[0;31mRuntimeError\u001b[0m                              Traceback (most recent call last)",
      "\u001b[1;32m/Users/madness/Desktop/774/allCode/planetarySyW6.ipynb Cell 4\u001b[0m in \u001b[0;36m<cell line: 48>\u001b[0;34m()\u001b[0m\n\u001b[1;32m     <a href='vscode-notebook-cell:/Users/madness/Desktop/774/allCode/planetarySyW6.ipynb#ch0000004?line=40'>41</a>\u001b[0m     \u001b[39mreturn\u001b[39;00m line_e,point_s,point_e,text_e,text_s\n\u001b[1;32m     <a href='vscode-notebook-cell:/Users/madness/Desktop/774/allCode/planetarySyW6.ipynb#ch0000004?line=42'>43</a>\u001b[0m anim \u001b[39m=\u001b[39m animation\u001b[39m.\u001b[39mFuncAnimation(fig\n\u001b[1;32m     <a href='vscode-notebook-cell:/Users/madness/Desktop/774/allCode/planetarySyW6.ipynb#ch0000004?line=43'>44</a>\u001b[0m                                 ,func\u001b[39m=\u001b[39mupdate\n\u001b[1;32m     <a href='vscode-notebook-cell:/Users/madness/Desktop/774/allCode/planetarySyW6.ipynb#ch0000004?line=44'>45</a>\u001b[0m                                 ,frames\u001b[39m=\u001b[39m\u001b[39mlen\u001b[39m(xeLs)\n\u001b[1;32m     <a href='vscode-notebook-cell:/Users/madness/Desktop/774/allCode/planetarySyW6.ipynb#ch0000004?line=45'>46</a>\u001b[0m                                 ,interval\u001b[39m=\u001b[39m\u001b[39m1\u001b[39m\n\u001b[1;32m     <a href='vscode-notebook-cell:/Users/madness/Desktop/774/allCode/planetarySyW6.ipynb#ch0000004?line=46'>47</a>\u001b[0m                                 ,blit\u001b[39m=\u001b[39m\u001b[39mTrue\u001b[39;00m)\n\u001b[0;32m---> <a href='vscode-notebook-cell:/Users/madness/Desktop/774/allCode/planetarySyW6.ipynb#ch0000004?line=47'>48</a>\u001b[0m video \u001b[39m=\u001b[39m anim\u001b[39m.\u001b[39;49mto_html5_video()\n\u001b[1;32m     <a href='vscode-notebook-cell:/Users/madness/Desktop/774/allCode/planetarySyW6.ipynb#ch0000004?line=49'>50</a>\u001b[0m \u001b[39m# embedding for the video\u001b[39;00m\n\u001b[1;32m     <a href='vscode-notebook-cell:/Users/madness/Desktop/774/allCode/planetarySyW6.ipynb#ch0000004?line=50'>51</a>\u001b[0m html \u001b[39m=\u001b[39m display\u001b[39m.\u001b[39mHTML(video)\n",
      "File \u001b[0;32m~/Desktop/774/allCode/phycode/lib/python3.8/site-packages/matplotlib/animation.py:1264\u001b[0m, in \u001b[0;36mAnimation.to_html5_video\u001b[0;34m(self, embed_limit)\u001b[0m\n\u001b[1;32m   1261\u001b[0m path \u001b[39m=\u001b[39m Path(tmpdir, \u001b[39m\"\u001b[39m\u001b[39mtemp.m4v\u001b[39m\u001b[39m\"\u001b[39m)\n\u001b[1;32m   1262\u001b[0m \u001b[39m# We create a writer manually so that we can get the\u001b[39;00m\n\u001b[1;32m   1263\u001b[0m \u001b[39m# appropriate size for the tag\u001b[39;00m\n\u001b[0;32m-> 1264\u001b[0m Writer \u001b[39m=\u001b[39m writers[mpl\u001b[39m.\u001b[39;49mrcParams[\u001b[39m'\u001b[39;49m\u001b[39manimation.writer\u001b[39;49m\u001b[39m'\u001b[39;49m]]\n\u001b[1;32m   1265\u001b[0m writer \u001b[39m=\u001b[39m Writer(codec\u001b[39m=\u001b[39m\u001b[39m'\u001b[39m\u001b[39mh264\u001b[39m\u001b[39m'\u001b[39m,\n\u001b[1;32m   1266\u001b[0m                 bitrate\u001b[39m=\u001b[39mmpl\u001b[39m.\u001b[39mrcParams[\u001b[39m'\u001b[39m\u001b[39manimation.bitrate\u001b[39m\u001b[39m'\u001b[39m],\n\u001b[1;32m   1267\u001b[0m                 fps\u001b[39m=\u001b[39m\u001b[39m1000.\u001b[39m \u001b[39m/\u001b[39m \u001b[39mself\u001b[39m\u001b[39m.\u001b[39m_interval)\n\u001b[1;32m   1268\u001b[0m \u001b[39mself\u001b[39m\u001b[39m.\u001b[39msave(\u001b[39mstr\u001b[39m(path), writer\u001b[39m=\u001b[39mwriter)\n",
      "File \u001b[0;32m~/Desktop/774/allCode/phycode/lib/python3.8/site-packages/matplotlib/animation.py:151\u001b[0m, in \u001b[0;36mMovieWriterRegistry.__getitem__\u001b[0;34m(self, name)\u001b[0m\n\u001b[1;32m    149\u001b[0m \u001b[39mif\u001b[39;00m \u001b[39mself\u001b[39m\u001b[39m.\u001b[39mis_available(name):\n\u001b[1;32m    150\u001b[0m     \u001b[39mreturn\u001b[39;00m \u001b[39mself\u001b[39m\u001b[39m.\u001b[39m_registered[name]\n\u001b[0;32m--> 151\u001b[0m \u001b[39mraise\u001b[39;00m \u001b[39mRuntimeError\u001b[39;00m(\u001b[39mf\u001b[39m\u001b[39m\"\u001b[39m\u001b[39mRequested MovieWriter (\u001b[39m\u001b[39m{\u001b[39;00mname\u001b[39m}\u001b[39;00m\u001b[39m) not available\u001b[39m\u001b[39m\"\u001b[39m)\n",
      "\u001b[0;31mRuntimeError\u001b[0m: Requested MovieWriter (ffmpeg) not available"
     ]
    },
    {
     "data": {
      "image/png": "[encoded data removed]",
      "text/plain": [
       "<Figure size 720x720 with 1 Axes>"
      ]
     },
     "metadata": {
      "needs_background": "light"
     },
     "output_type": "display_data"
    }
   ],
   "source": [
    "import matplotlib.pyplot as plt\n",
    "from matplotlib import animation\n",
    "from IPython import display\n",
    "\n",
    "fig, ax = plt.subplots(figsize=(10,10))\n",
    "ax.set_aspect('equal')\n",
    "ax.grid()\n",
    "\n",
    "line_e,     = ax.plot([],[],'-g',lw=1, c='blue')\n",
    "point_e,    = ax.plot([1.5e11], [0], marker=\"o\"\n",
    "                    , markersize=4\n",
    "                    , markeredgecolor=\"blue\"\n",
    "                    , markerfacecolor=\"blue\")\n",
    "text_e      = ax.text(1.5e11,0,'Earth')\n",
    "\n",
    "point_s,    = ax.plot([0], [0], marker=\"o\"\n",
    "                    , markersize=7\n",
    "                    , markeredgecolor=\"yellow\"\n",
    "                    , markerfacecolor=\"yellow\")\n",
    "text_s      = ax.text(0,0,'Sun')\n",
    "\n",
    "exdata,eydata = [],[]                   # earth track\n",
    "sxdata,sydata = [],[]                   # sun track\n",
    "\n",
    "print(len(xeLs))\n",
    "\n",
    "def update(i):\n",
    "    exdata.append(xeLs[i])\n",
    "    eydata.append(yeLs[i])\n",
    "    \n",
    "    line_e.set_data(exdata,eydata)\n",
    "    point_e.set_data(xeLs[i],yeLs[i])\n",
    "    text_e.set_position((xeLs[i],yeLs[i]))\n",
    "\n",
    "    point_s.set_data(xsLs[i],ysLs[i])\n",
    "    text_s.set_position((xsLs[i],ysLs[i]))\n",
    "    ax.axis('equal')\n",
    "    ax.set_xlim(-3*1.5e11,3*1.5e11)\n",
    "    ax.set_ylim(-3*1.5e11,3*1.5e11)\n",
    "\n",
    "    return line_e,point_s,point_e,text_e,text_s\n",
    "\n",
    "anim = animation.FuncAnimation(fig\n",
    "                                ,func=update\n",
    "                                ,frames=len(xeLs)\n",
    "                                ,interval=1\n",
    "                                ,blit=True)\n",
    "video = anim.to_html5_video()\n",
    "\n",
    "# embedding for the video\n",
    "html = display.HTML(video)\n",
    "\n",
    "# draw the animation\n",
    "display.display(html)\n",
    "plt.close()"
   ]
  }
 ],
 "metadata": {
  "kernelspec": {
   "display_name": "Python 3.8.8 ('phycode': venv)",
   "language": "python",
   "name": "python3"
  },
  "language_info": {
   "codemirror_mode": {
    "name": "ipython",
    "version": 3
   },
   "file_extension": ".py",
   "mimetype": "text/x-python",
   "name": "python",
   "nbconvert_exporter": "python",
   "pygments_lexer": "ipython3",
   "version": "3.8.8"
  },
  "orig_nbformat": 4,
  "vscode": {
   "interpreter": {
    "hash": "af395fdda85f1f85307ea46420fab30ad6150d40766eb06495eee9239cf28651"
   }
  }
 },
 "nbformat": 4,
 "nbformat_minor": 2
}
